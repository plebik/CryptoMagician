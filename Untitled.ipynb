{
 "cells": [
  {
   "cell_type": "code",
   "execution_count": 27,
   "id": "a0ec652d-058c-49d6-bdfb-96d6939882b3",
   "metadata": {},
   "outputs": [],
   "source": [
    "import os\n",
    "import datetime\n",
    "import pandas as pd\n",
    "import seaborn as sns\n",
    "import plotly.graph_objects as go\n",
    "from plotly.subplots import make_subplots\n",
    "from utils.data_gathering import gather_data\n",
    "from utils.transformation import partition"
   ]
  },
  {
   "cell_type": "markdown",
   "id": "068ea7e9-0268-4b8a-81c1-2c13dbca0604",
   "metadata": {
    "jp-MarkdownHeadingCollapsed": true
   },
   "source": [
    "## Gather data"
   ]
  },
  {
   "cell_type": "code",
   "execution_count": 11,
   "id": "214aefdf-967d-45d2-96cf-946ab3a36647",
   "metadata": {},
   "outputs": [],
   "source": [
    "if not os.path.exists('data'):\n",
    "    os.makedirs('data')\n",
    "\n",
    "filepath = os.path.join('data', 'data.parquet')\n",
    "if not os.path.isfile(filepath):\n",
    "    tmp_data = gather_data(start='2023-01-01 00:00:00', stop='2023-12-31 23:00:00')\n",
    "    tmp_data.to_parquet('data/data.parquet', compression='snappy')\n",
    "    "
   ]
  },
  {
   "cell_type": "markdown",
   "id": "f8eaa72e-4deb-448b-beec-a4cdef32f3e1",
   "metadata": {
    "jp-MarkdownHeadingCollapsed": true
   },
   "source": [
    "## Load data"
   ]
  },
  {
   "cell_type": "code",
   "execution_count": 12,
   "id": "cb561dde-a584-47cc-815f-1d577964dc41",
   "metadata": {},
   "outputs": [],
   "source": [
    "data = pd.read_parquet('data/data.parquet')"
   ]
  },
  {
   "cell_type": "code",
   "execution_count": 13,
   "id": "65afb7b1-9950-4b99-9d39-6687d494f7c9",
   "metadata": {},
   "outputs": [
    {
     "data": {
      "text/html": [
       "<div>\n",
       "<style scoped>\n",
       "    .dataframe tbody tr th:only-of-type {\n",
       "        vertical-align: middle;\n",
       "    }\n",
       "\n",
       "    .dataframe tbody tr th {\n",
       "        vertical-align: top;\n",
       "    }\n",
       "\n",
       "    .dataframe thead th {\n",
       "        text-align: right;\n",
       "    }\n",
       "</style>\n",
       "<table border=\"1\" class=\"dataframe\">\n",
       "  <thead>\n",
       "    <tr style=\"text-align: right;\">\n",
       "      <th></th>\n",
       "      <th>open_time</th>\n",
       "      <th>close_time</th>\n",
       "      <th>open</th>\n",
       "      <th>high</th>\n",
       "      <th>low</th>\n",
       "      <th>close</th>\n",
       "      <th>volume</th>\n",
       "      <th>n_trades</th>\n",
       "    </tr>\n",
       "  </thead>\n",
       "  <tbody>\n",
       "    <tr>\n",
       "      <th>0</th>\n",
       "      <td>2023-01-01 00:00:00</td>\n",
       "      <td>2023-01-01 00:59:59.999</td>\n",
       "      <td>16541.77</td>\n",
       "      <td>16545.70</td>\n",
       "      <td>16508.39</td>\n",
       "      <td>16529.67</td>\n",
       "      <td>4364.83570</td>\n",
       "      <td>149854</td>\n",
       "    </tr>\n",
       "    <tr>\n",
       "      <th>1</th>\n",
       "      <td>2023-01-01 01:00:00</td>\n",
       "      <td>2023-01-01 01:59:59.999</td>\n",
       "      <td>16529.59</td>\n",
       "      <td>16556.80</td>\n",
       "      <td>16525.78</td>\n",
       "      <td>16551.47</td>\n",
       "      <td>3590.06669</td>\n",
       "      <td>126556</td>\n",
       "    </tr>\n",
       "    <tr>\n",
       "      <th>2</th>\n",
       "      <td>2023-01-01 02:00:00</td>\n",
       "      <td>2023-01-01 02:59:59.999</td>\n",
       "      <td>16551.47</td>\n",
       "      <td>16559.77</td>\n",
       "      <td>16538.14</td>\n",
       "      <td>16548.19</td>\n",
       "      <td>3318.84038</td>\n",
       "      <td>115398</td>\n",
       "    </tr>\n",
       "    <tr>\n",
       "      <th>3</th>\n",
       "      <td>2023-01-01 03:00:00</td>\n",
       "      <td>2023-01-01 03:59:59.999</td>\n",
       "      <td>16548.19</td>\n",
       "      <td>16548.19</td>\n",
       "      <td>16518.21</td>\n",
       "      <td>16533.04</td>\n",
       "      <td>4242.08050</td>\n",
       "      <td>137724</td>\n",
       "    </tr>\n",
       "    <tr>\n",
       "      <th>4</th>\n",
       "      <td>2023-01-01 04:00:00</td>\n",
       "      <td>2023-01-01 04:59:59.999</td>\n",
       "      <td>16533.04</td>\n",
       "      <td>16535.97</td>\n",
       "      <td>16511.92</td>\n",
       "      <td>16521.85</td>\n",
       "      <td>4285.00909</td>\n",
       "      <td>129535</td>\n",
       "    </tr>\n",
       "  </tbody>\n",
       "</table>\n",
       "</div>"
      ],
      "text/plain": [
       "            open_time              close_time      open      high       low  \\\n",
       "0 2023-01-01 00:00:00 2023-01-01 00:59:59.999  16541.77  16545.70  16508.39   \n",
       "1 2023-01-01 01:00:00 2023-01-01 01:59:59.999  16529.59  16556.80  16525.78   \n",
       "2 2023-01-01 02:00:00 2023-01-01 02:59:59.999  16551.47  16559.77  16538.14   \n",
       "3 2023-01-01 03:00:00 2023-01-01 03:59:59.999  16548.19  16548.19  16518.21   \n",
       "4 2023-01-01 04:00:00 2023-01-01 04:59:59.999  16533.04  16535.97  16511.92   \n",
       "\n",
       "      close      volume  n_trades  \n",
       "0  16529.67  4364.83570    149854  \n",
       "1  16551.47  3590.06669    126556  \n",
       "2  16548.19  3318.84038    115398  \n",
       "3  16533.04  4242.08050    137724  \n",
       "4  16521.85  4285.00909    129535  "
      ]
     },
     "execution_count": 13,
     "metadata": {},
     "output_type": "execute_result"
    }
   ],
   "source": [
    "data.head()"
   ]
  },
  {
   "cell_type": "markdown",
   "id": "9a77ba9f-92d3-4cf9-9f49-3a45b2bf9422",
   "metadata": {},
   "source": [
    "## Data Partition\n",
    "Data is divided into 6 intervals, each of them consider 4 hours of the day, regarding the day of the week"
   ]
  },
  {
   "cell_type": "code",
   "execution_count": 14,
   "id": "febc5967-8236-41cd-80b2-ca18c01b67e6",
   "metadata": {},
   "outputs": [],
   "source": [
    "partitioned_data = partition(data)"
   ]
  },
  {
   "cell_type": "markdown",
   "id": "e2c0cc9b-fbf5-49c8-a3d5-5bb79ffcfdec",
   "metadata": {},
   "source": [
    "#### Example\n",
    "Shows how the given values developed on Mondays from midnight to 4am "
   ]
  },
  {
   "cell_type": "code",
   "execution_count": 15,
   "id": "c6a2bf5a-508a-4bcc-91c1-5137b25bc5e0",
   "metadata": {},
   "outputs": [
    {
     "data": {
      "text/html": [
       "<div>\n",
       "<style scoped>\n",
       "    .dataframe tbody tr th:only-of-type {\n",
       "        vertical-align: middle;\n",
       "    }\n",
       "\n",
       "    .dataframe tbody tr th {\n",
       "        vertical-align: top;\n",
       "    }\n",
       "\n",
       "    .dataframe thead th {\n",
       "        text-align: right;\n",
       "    }\n",
       "</style>\n",
       "<table border=\"1\" class=\"dataframe\">\n",
       "  <thead>\n",
       "    <tr style=\"text-align: right;\">\n",
       "      <th></th>\n",
       "      <th>date</th>\n",
       "      <th>open</th>\n",
       "      <th>high</th>\n",
       "      <th>low</th>\n",
       "      <th>close</th>\n",
       "      <th>volume</th>\n",
       "      <th>n_trades</th>\n",
       "    </tr>\n",
       "  </thead>\n",
       "  <tbody>\n",
       "    <tr>\n",
       "      <th>6</th>\n",
       "      <td>2023-01-02</td>\n",
       "      <td>16617.17</td>\n",
       "      <td>16707.25</td>\n",
       "      <td>16548.70</td>\n",
       "      <td>16661.94</td>\n",
       "      <td>19463.47510</td>\n",
       "      <td>619992</td>\n",
       "    </tr>\n",
       "    <tr>\n",
       "      <th>48</th>\n",
       "      <td>2023-01-09</td>\n",
       "      <td>17127.83</td>\n",
       "      <td>17252.60</td>\n",
       "      <td>17104.66</td>\n",
       "      <td>17197.00</td>\n",
       "      <td>50799.16414</td>\n",
       "      <td>1251772</td>\n",
       "    </tr>\n",
       "    <tr>\n",
       "      <th>90</th>\n",
       "      <td>2023-01-16</td>\n",
       "      <td>20872.99</td>\n",
       "      <td>21439.59</td>\n",
       "      <td>20770.20</td>\n",
       "      <td>21075.68</td>\n",
       "      <td>65696.37043</td>\n",
       "      <td>1462343</td>\n",
       "    </tr>\n",
       "    <tr>\n",
       "      <th>132</th>\n",
       "      <td>2023-01-23</td>\n",
       "      <td>22706.02</td>\n",
       "      <td>22826.46</td>\n",
       "      <td>22646.43</td>\n",
       "      <td>22661.02</td>\n",
       "      <td>36139.99774</td>\n",
       "      <td>1035110</td>\n",
       "    </tr>\n",
       "    <tr>\n",
       "      <th>174</th>\n",
       "      <td>2023-01-30</td>\n",
       "      <td>23743.37</td>\n",
       "      <td>23800.51</td>\n",
       "      <td>23567.10</td>\n",
       "      <td>23701.44</td>\n",
       "      <td>36904.38643</td>\n",
       "      <td>1060669</td>\n",
       "    </tr>\n",
       "  </tbody>\n",
       "</table>\n",
       "</div>"
      ],
      "text/plain": [
       "           date      open      high       low     close       volume  n_trades\n",
       "6    2023-01-02  16617.17  16707.25  16548.70  16661.94  19463.47510    619992\n",
       "48   2023-01-09  17127.83  17252.60  17104.66  17197.00  50799.16414   1251772\n",
       "90   2023-01-16  20872.99  21439.59  20770.20  21075.68  65696.37043   1462343\n",
       "132  2023-01-23  22706.02  22826.46  22646.43  22661.02  36139.99774   1035110\n",
       "174  2023-01-30  23743.37  23800.51  23567.10  23701.44  36904.38643   1060669"
      ]
     },
     "execution_count": 15,
     "metadata": {},
     "output_type": "execute_result"
    }
   ],
   "source": [
    "partitioned_data['Monday']['0-4'].head()"
   ]
  },
  {
   "cell_type": "markdown",
   "id": "108c27fc-c200-4364-bdbd-ee3f057abda7",
   "metadata": {},
   "source": [
    "## Number of trades\n",
    "Count of the trades concluded in certain interval for each day"
   ]
  },
  {
   "cell_type": "code",
   "execution_count": 16,
   "id": "4ee59db3-399e-4d02-8495-499afdc8aec5",
   "metadata": {},
   "outputs": [],
   "source": [
    "trades = {}\n",
    "for interval in ['0-4', '4-8', '8-12', '12-16', '16-20', '20-24']:\n",
    "    tmp_interval_trade = [partitioned_data[weekday][interval]['n_trades'].values for weekday in partitioned_data.keys()]\n",
    "    tmp_interval_trade = pd.DataFrame(tmp_interval_trade).transpose()\n",
    "    tmp_interval_trade.columns = partitioned_data.keys()\n",
    "    trades[interval] = tmp_interval_trade\n",
    "    "
   ]
  },
  {
   "cell_type": "code",
   "execution_count": 25,
   "id": "3ee7b04e-c596-4e81-b2e6-ee87a2d171fa",
   "metadata": {},
   "outputs": [
    {
     "data": {
      "text/html": [
       "<div>\n",
       "<style scoped>\n",
       "    .dataframe tbody tr th:only-of-type {\n",
       "        vertical-align: middle;\n",
       "    }\n",
       "\n",
       "    .dataframe tbody tr th {\n",
       "        vertical-align: top;\n",
       "    }\n",
       "\n",
       "    .dataframe thead th {\n",
       "        text-align: right;\n",
       "    }\n",
       "</style>\n",
       "<table border=\"1\" class=\"dataframe\">\n",
       "  <thead>\n",
       "    <tr style=\"text-align: right;\">\n",
       "      <th></th>\n",
       "      <th>Monday</th>\n",
       "      <th>Tuesday</th>\n",
       "      <th>Wednesday</th>\n",
       "      <th>Thursday</th>\n",
       "      <th>Friday</th>\n",
       "      <th>Saturday</th>\n",
       "      <th>Sunday</th>\n",
       "    </tr>\n",
       "  </thead>\n",
       "  <tbody>\n",
       "    <tr>\n",
       "      <th>48</th>\n",
       "      <td>365603.0</td>\n",
       "      <td>258142.0</td>\n",
       "      <td>279202.0</td>\n",
       "      <td>126944.0</td>\n",
       "      <td>134275.0</td>\n",
       "      <td>134043.0</td>\n",
       "      <td>126459.0</td>\n",
       "    </tr>\n",
       "    <tr>\n",
       "      <th>49</th>\n",
       "      <td>521761.0</td>\n",
       "      <td>241213.0</td>\n",
       "      <td>229917.0</td>\n",
       "      <td>170989.0</td>\n",
       "      <td>183719.0</td>\n",
       "      <td>166593.0</td>\n",
       "      <td>103182.0</td>\n",
       "    </tr>\n",
       "    <tr>\n",
       "      <th>50</th>\n",
       "      <td>270719.0</td>\n",
       "      <td>303079.0</td>\n",
       "      <td>177058.0</td>\n",
       "      <td>187534.0</td>\n",
       "      <td>193666.0</td>\n",
       "      <td>185808.0</td>\n",
       "      <td>183553.0</td>\n",
       "    </tr>\n",
       "    <tr>\n",
       "      <th>51</th>\n",
       "      <td>170634.0</td>\n",
       "      <td>146217.0</td>\n",
       "      <td>162338.0</td>\n",
       "      <td>220851.0</td>\n",
       "      <td>274209.0</td>\n",
       "      <td>131077.0</td>\n",
       "      <td>146716.0</td>\n",
       "    </tr>\n",
       "    <tr>\n",
       "      <th>52</th>\n",
       "      <td>NaN</td>\n",
       "      <td>NaN</td>\n",
       "      <td>NaN</td>\n",
       "      <td>NaN</td>\n",
       "      <td>NaN</td>\n",
       "      <td>NaN</td>\n",
       "      <td>143687.0</td>\n",
       "    </tr>\n",
       "  </tbody>\n",
       "</table>\n",
       "</div>"
      ],
      "text/plain": [
       "      Monday   Tuesday  Wednesday  Thursday    Friday  Saturday    Sunday\n",
       "48  365603.0  258142.0   279202.0  126944.0  134275.0  134043.0  126459.0\n",
       "49  521761.0  241213.0   229917.0  170989.0  183719.0  166593.0  103182.0\n",
       "50  270719.0  303079.0   177058.0  187534.0  193666.0  185808.0  183553.0\n",
       "51  170634.0  146217.0   162338.0  220851.0  274209.0  131077.0  146716.0\n",
       "52       NaN       NaN        NaN       NaN       NaN       NaN  143687.0"
      ]
     },
     "execution_count": 25,
     "metadata": {},
     "output_type": "execute_result"
    }
   ],
   "source": [
    "trades['0-4'].tail()"
   ]
  },
  {
   "cell_type": "markdown",
   "id": "f532ca5a-7734-4c0a-895a-84758b0f19d7",
   "metadata": {},
   "source": [
    "## Ranking"
   ]
  },
  {
   "cell_type": "code",
   "execution_count": 20,
   "id": "65cb2a82-0bc7-4143-9572-b24e51c08c22",
   "metadata": {},
   "outputs": [],
   "source": [
    "rankings = {}\n",
    "for interval in trades.keys():\n",
    "    ls = []\n",
    "    for series in trades[interval].values:\n",
    "        try:\n",
    "            sorted_values = sorted(series, reverse=True)\n",
    "            map_ = {key:value for key, value in zip(sorted_values, range(1, len(sorted_values) + 1))}\n",
    "            ls.append([map_[s] for s in series])\n",
    "        except:\n",
    "            pass\n",
    "        \n",
    "    ranking = pd.DataFrame(ls, columns=['Monday', 'Tuesday', 'Wednesday', 'Thursday', 'Friday', 'Saturday', 'Sunday'])\n",
    "    \n",
    "    tmp_ls = []\n",
    "    for w in ranking.columns:\n",
    "        tmp_ls.append({a:b for a,b in ranking[w].value_counts().items()})\n",
    "        \n",
    "    for index, value in enumerate(tmp_ls):\n",
    "        tmp_ls[index] = dict(sorted(value.items()))\n",
    "        \n",
    "    ranking_frame = pd.DataFrame(tmp_ls).transpose()\n",
    "    ranking_frame.columns = ['Monday', 'Tuesday', 'Wednesday', 'Thursday', 'Friday', 'Saturday', 'Sunday']\n",
    "\n",
    "    rankings[interval] = ranking_frame\n"
   ]
  },
  {
   "cell_type": "markdown",
   "id": "69c37c7f-71f6-4c2a-8c6d-35864e0c80e6",
   "metadata": {},
   "source": [
    "#### Example\n",
    "In the interval of '0-4', Monday has had the highest number of trades, considering week by week, 14 times.  \n",
    "Monday has had the second highest number of trades 11 times etc."
   ]
  },
  {
   "cell_type": "code",
   "execution_count": 30,
   "id": "11c7350d-f5b6-46c2-a562-7f9804d5699d",
   "metadata": {},
   "outputs": [
    {
     "data": {
      "text/plain": [
       "<Axes: >"
      ]
     },
     "execution_count": 30,
     "metadata": {},
     "output_type": "execute_result"
    },
    {
     "data": {
      "image/png": "[encoded data removed]",
      "text/plain": [
       "<Figure size 640x480 with 2 Axes>"
      ]
     },
     "metadata": {},
     "output_type": "display_data"
    }
   ],
   "source": [
    "sns.heatmap(data=rankings['0-4'], annot=True, cmap=\"coolwarm\")"
   ]
  },
  {
   "cell_type": "markdown",
   "id": "f5f5a69d-3ecc-463f-bdcd-c2e397e4a17b",
   "metadata": {},
   "source": [
    "### Ranking Visualization"
   ]
  },
  {
   "cell_type": "code",
   "execution_count": 37,
   "id": "0f3db098-f28d-4778-8326-706293cf76de",
   "metadata": {},
   "outputs": [
    {
     "data": {
      "application/vnd.plotly.v1+json": {
       "config": {
        "plotlyServerURL": "https://plot.ly"
       },
       "data": [
        {
         "legendgroup": "0-4",
         "name": "Monday",
         "type": "bar",
         "x": [
          1,
          2,
          3,
          4,
          5,
          6,
          7
         ],
         "xaxis": "x",
         "y": [
          14,
          11,
          10,
          8,
          3,
          6,
          null
         ],
         "yaxis": "y"
        },
        {
         "legendgroup": "0-4",
         "name": "Tuesday",
         "type": "bar",
         "x": [
          1,
          2,
          3,
          4,
          5,
          6,
          7
         ],
         "xaxis": "x",
         "y": [
          5,
          8,
          11,
          9,
          10,
          8,
          1
         ],
         "yaxis": "y"
        },
        {
         "legendgroup": "0-4",
         "name": "Wednesday",
         "type": "bar",
         "x": [
          1,
          2,
          3,
          4,
          5,
          6,
          7
         ],
         "xaxis": "x",
         "y": [
          13,
          8,
          5,
          7,
          11,
          5,
          3
         ],
         "yaxis": "y"
        },
        {
         "legendgroup": "0-4",
         "name": "Thursday",
         "type": "bar",
         "x": [
          1,
          2,
          3,
          4,
          5,
          6,
          7
         ],
         "xaxis": "x",
         "y": [
          9,
          11,
          5,
          10,
          8,
          6,
          3
         ],
         "yaxis": "y"
        },
        {
         "legendgroup": "0-4",
         "name": "Friday",
         "type": "bar",
         "x": [
          1,
          2,
          3,
          4,
          5,
          6,
          7
         ],
         "xaxis": "x",
         "y": [
          8,
          10,
          10,
          8,
          8,
          6,
          2
         ],
         "yaxis": "y"
        },
        {
         "legendgroup": "0-4",
         "name": "Saturday",
         "type": "bar",
         "x": [
          1,
          2,
          3,
          4,
          5,
          6,
          7
         ],
         "xaxis": "x",
         "y": [
          2,
          2,
          5,
          7,
          4,
          14,
          18
         ],
         "yaxis": "y"
        },
        {
         "legendgroup": "0-4",
         "name": "Sunday",
         "type": "bar",
         "x": [
          1,
          2,
          3,
          4,
          5,
          6,
          7
         ],
         "xaxis": "x",
         "y": [
          1,
          2,
          6,
          3,
          8,
          7,
          25
         ],
         "yaxis": "y"
        },
        {
         "legendgroup": "4-8",
         "name": "Monday",
         "type": "bar",
         "x": [
          1,
          2,
          3,
          4,
          5,
          6,
          7
         ],
         "xaxis": "x2",
         "y": [
          11,
          9,
          10,
          6,
          12,
          1,
          3
         ],
         "yaxis": "y2"
        },
        {
         "legendgroup": "4-8",
         "name": "Tuesday",
         "type": "bar",
         "x": [
          1,
          2,
          3,
          4,
          5,
          6,
          7
         ],
         "xaxis": "x2",
         "y": [
          8,
          9,
          8,
          9,
          5,
          12,
          1
         ],
         "yaxis": "y2"
        },
        {
         "legendgroup": "4-8",
         "name": "Wednesday",
         "type": "bar",
         "x": [
          1,
          2,
          3,
          4,
          5,
          6,
          7
         ],
         "xaxis": "x2",
         "y": [
          10,
          11,
          7,
          8,
          7,
          7,
          2
         ],
         "yaxis": "y2"
        },
        {
         "legendgroup": "4-8",
         "name": "Thursday",
         "type": "bar",
         "x": [
          1,
          2,
          3,
          4,
          5,
          6,
          7
         ],
         "xaxis": "x2",
         "y": [
          8,
          9,
          9,
          12,
          8,
          6,
          null
         ],
         "yaxis": "y2"
        },
        {
         "legendgroup": "4-8",
         "name": "Friday",
         "type": "bar",
         "x": [
          1,
          2,
          3,
          4,
          5,
          6,
          7
         ],
         "xaxis": "x2",
         "y": [
          11,
          10,
          7,
          10,
          9,
          4,
          1
         ],
         "yaxis": "y2"
        },
        {
         "legendgroup": "4-8",
         "name": "Saturday",
         "type": "bar",
         "x": [
          1,
          2,
          3,
          4,
          5,
          6,
          7
         ],
         "xaxis": "x2",
         "y": [
          4,
          2,
          6,
          1,
          7,
          13,
          19
         ],
         "yaxis": "y2"
        },
        {
         "legendgroup": "4-8",
         "name": "Sunday",
         "type": "bar",
         "x": [
          1,
          2,
          3,
          4,
          5,
          6,
          7
         ],
         "xaxis": "x2",
         "y": [
          null,
          2,
          5,
          6,
          4,
          9,
          26
         ],
         "yaxis": "y2"
        },
        {
         "legendgroup": "8-12",
         "name": "Monday",
         "type": "bar",
         "x": [
          1,
          2,
          3,
          4,
          5,
          6,
          7
         ],
         "xaxis": "x3",
         "y": [
          15,
          7,
          10,
          5,
          8,
          5,
          2
         ],
         "yaxis": "y3"
        },
        {
         "legendgroup": "8-12",
         "name": "Tuesday",
         "type": "bar",
         "x": [
          1,
          2,
          3,
          4,
          5,
          6,
          7
         ],
         "xaxis": "x3",
         "y": [
          7,
          14,
          10,
          8,
          10,
          3,
          null
         ],
         "yaxis": "y3"
        },
        {
         "legendgroup": "8-12",
         "name": "Wednesday",
         "type": "bar",
         "x": [
          1,
          2,
          3,
          4,
          5,
          6,
          7
         ],
         "xaxis": "x3",
         "y": [
          10,
          8,
          6,
          17,
          7,
          3,
          1
         ],
         "yaxis": "y3"
        },
        {
         "legendgroup": "8-12",
         "name": "Thursday",
         "type": "bar",
         "x": [
          1,
          2,
          3,
          4,
          5,
          6,
          7
         ],
         "xaxis": "x3",
         "y": [
          7,
          14,
          12,
          6,
          8,
          5,
          null
         ],
         "yaxis": "y3"
        },
        {
         "legendgroup": "8-12",
         "name": "Friday",
         "type": "bar",
         "x": [
          1,
          2,
          3,
          4,
          5,
          6,
          7
         ],
         "xaxis": "x3",
         "y": [
          10,
          4,
          11,
          13,
          6,
          8,
          null
         ],
         "yaxis": "y3"
        },
        {
         "legendgroup": "8-12",
         "name": "Saturday",
         "type": "bar",
         "x": [
          1,
          2,
          3,
          4,
          5,
          6,
          7
         ],
         "xaxis": "x3",
         "y": [
          3,
          3,
          1,
          1,
          8,
          13,
          23
         ],
         "yaxis": "y3"
        },
        {
         "legendgroup": "8-12",
         "name": "Sunday",
         "type": "bar",
         "x": [
          1,
          2,
          3,
          4,
          5,
          6,
          7
         ],
         "xaxis": "x3",
         "y": [
          null,
          2,
          2,
          2,
          5,
          15,
          26
         ],
         "yaxis": "y3"
        },
        {
         "legendgroup": "12-16",
         "name": "Monday",
         "type": "bar",
         "x": [
          1,
          2,
          3,
          4,
          5,
          6,
          7
         ],
         "xaxis": "x4",
         "y": [
          8,
          5,
          13,
          11,
          8,
          6,
          1
         ],
         "yaxis": "y4"
        },
        {
         "legendgroup": "12-16",
         "name": "Tuesday",
         "type": "bar",
         "x": [
          1,
          2,
          3,
          4,
          5,
          6,
          7
         ],
         "xaxis": "x4",
         "y": [
          10,
          11,
          9,
          10,
          8,
          4,
          null
         ],
         "yaxis": "y4"
        },
        {
         "legendgroup": "12-16",
         "name": "Wednesday",
         "type": "bar",
         "x": [
          1,
          2,
          3,
          4,
          5,
          6,
          7
         ],
         "xaxis": "x4",
         "y": [
          13,
          10,
          12,
          6,
          8,
          2,
          1
         ],
         "yaxis": "y4"
        },
        {
         "legendgroup": "12-16",
         "name": "Thursday",
         "type": "bar",
         "x": [
          1,
          2,
          3,
          4,
          5,
          6,
          7
         ],
         "xaxis": "x4",
         "y": [
          14,
          10,
          6,
          12,
          9,
          1,
          null
         ],
         "yaxis": "y4"
        },
        {
         "legendgroup": "12-16",
         "name": "Friday",
         "type": "bar",
         "x": [
          1,
          2,
          3,
          4,
          5,
          6,
          7
         ],
         "xaxis": "x4",
         "y": [
          7,
          15,
          9,
          9,
          8,
          4,
          null
         ],
         "yaxis": "y4"
        },
        {
         "legendgroup": "12-16",
         "name": "Saturday",
         "type": "bar",
         "x": [
          1,
          2,
          3,
          4,
          5,
          6,
          7
         ],
         "xaxis": "x4",
         "y": [
          null,
          1,
          2,
          1,
          5,
          12,
          31
         ],
         "yaxis": "y4"
        },
        {
         "legendgroup": "12-16",
         "name": "Sunday",
         "type": "bar",
         "x": [
          1,
          2,
          3,
          4,
          5,
          6,
          7
         ],
         "xaxis": "x4",
         "y": [
          null,
          null,
          1,
          3,
          6,
          23,
          19
         ],
         "yaxis": "y4"
        },
        {
         "legendgroup": "16-20",
         "name": "Monday",
         "type": "bar",
         "x": [
          1,
          2,
          3,
          4,
          5,
          6,
          7
         ],
         "xaxis": "x5",
         "y": [
          9,
          11,
          9,
          5,
          10,
          7,
          1
         ],
         "yaxis": "y5"
        },
        {
         "legendgroup": "16-20",
         "name": "Tuesday",
         "type": "bar",
         "x": [
          1,
          2,
          3,
          4,
          5,
          6,
          7
         ],
         "xaxis": "x5",
         "y": [
          10,
          9,
          12,
          8,
          9,
          4,
          null
         ],
         "yaxis": "y5"
        },
        {
         "legendgroup": "16-20",
         "name": "Wednesday",
         "type": "bar",
         "x": [
          1,
          2,
          3,
          4,
          5,
          6,
          7
         ],
         "xaxis": "x5",
         "y": [
          16,
          7,
          7,
          15,
          6,
          1,
          null
         ],
         "yaxis": "y5"
        },
        {
         "legendgroup": "16-20",
         "name": "Thursday",
         "type": "bar",
         "x": [
          1,
          2,
          3,
          4,
          5,
          6,
          7
         ],
         "xaxis": "x5",
         "y": [
          10,
          10,
          10,
          8,
          9,
          2,
          3
         ],
         "yaxis": "y5"
        },
        {
         "legendgroup": "16-20",
         "name": "Friday",
         "type": "bar",
         "x": [
          1,
          2,
          3,
          4,
          5,
          6,
          7
         ],
         "xaxis": "x5",
         "y": [
          5,
          9,
          9,
          9,
          9,
          10,
          1
         ],
         "yaxis": "y5"
        },
        {
         "legendgroup": "16-20",
         "name": "Saturday",
         "type": "bar",
         "x": [
          1,
          2,
          3,
          4,
          5,
          6,
          7
         ],
         "xaxis": "x5",
         "y": [
          1,
          2,
          1,
          2,
          3,
          13,
          30
         ],
         "yaxis": "y5"
        },
        {
         "legendgroup": "16-20",
         "name": "Sunday",
         "type": "bar",
         "x": [
          1,
          2,
          3,
          4,
          5,
          6,
          7
         ],
         "xaxis": "x5",
         "y": [
          1,
          4,
          4,
          5,
          6,
          15,
          17
         ],
         "yaxis": "y5"
        },
        {
         "legendgroup": "20-24",
         "name": "Monday",
         "type": "bar",
         "x": [
          1,
          2,
          3,
          4,
          5,
          6,
          7
         ],
         "xaxis": "x6",
         "y": [
          6,
          9,
          7,
          11,
          8,
          7,
          4
         ],
         "yaxis": "y6"
        },
        {
         "legendgroup": "20-24",
         "name": "Tuesday",
         "type": "bar",
         "x": [
          1,
          2,
          3,
          4,
          5,
          6,
          7
         ],
         "xaxis": "x6",
         "y": [
          7,
          10,
          8,
          10,
          8,
          8,
          1
         ],
         "yaxis": "y6"
        },
        {
         "legendgroup": "20-24",
         "name": "Wednesday",
         "type": "bar",
         "x": [
          1,
          2,
          3,
          4,
          5,
          6,
          7
         ],
         "xaxis": "x6",
         "y": [
          15,
          12,
          5,
          9,
          4,
          7,
          null
         ],
         "yaxis": "y6"
        },
        {
         "legendgroup": "20-24",
         "name": "Thursday",
         "type": "bar",
         "x": [
          1,
          2,
          3,
          4,
          5,
          6,
          7
         ],
         "xaxis": "x6",
         "y": [
          8,
          6,
          10,
          4,
          12,
          9,
          3
         ],
         "yaxis": "y6"
        },
        {
         "legendgroup": "20-24",
         "name": "Friday",
         "type": "bar",
         "x": [
          1,
          2,
          3,
          4,
          5,
          6,
          7
         ],
         "xaxis": "x6",
         "y": [
          7,
          4,
          11,
          2,
          12,
          12,
          4
         ],
         "yaxis": "y6"
        },
        {
         "legendgroup": "20-24",
         "name": "Saturday",
         "type": "bar",
         "x": [
          1,
          2,
          3,
          4,
          5,
          6,
          7
         ],
         "xaxis": "x6",
         "y": [
          1,
          4,
          2,
          3,
          2,
          6,
          34
         ],
         "yaxis": "y6"
        },
        {
         "legendgroup": "20-24",
         "name": "Sunday",
         "type": "bar",
         "x": [
          1,
          2,
          3,
          4,
          5,
          6,
          7
         ],
         "xaxis": "x6",
         "y": [
          8,
          7,
          9,
          13,
          6,
          3,
          6
         ],
         "yaxis": "y6"
        }
       ],
       "layout": {
        "annotations": [
         {
          "font": {
           "size": 16
          },
          "showarrow": false,
          "text": "0-4",
          "x": 0.5,
          "xanchor": "center",
          "xref": "paper",
          "y": 0.9999999999999999,
          "yanchor": "bottom",
          "yref": "paper"
         },
         {
          "font": {
           "size": 16
          },
          "showarrow": false,
          "text": "4-8",
          "x": 0.5,
          "xanchor": "center",
          "xref": "paper",
          "y": 0.8194444444444444,
          "yanchor": "bottom",
          "yref": "paper"
         },
         {
          "font": {
           "size": 16
          },
          "showarrow": false,
          "text": "8-12",
          "x": 0.5,
          "xanchor": "center",
          "xref": "paper",
          "y": 0.638888888888889,
          "yanchor": "bottom",
          "yref": "paper"
         },
         {
          "font": {
           "size": 16
          },
          "showarrow": false,
          "text": "12-16",
          "x": 0.5,
          "xanchor": "center",
          "xref": "paper",
          "y": 0.4583333333333333,
          "yanchor": "bottom",
          "yref": "paper"
         },
         {
          "font": {
           "size": 16
          },
          "showarrow": false,
          "text": "16-20",
          "x": 0.5,
          "xanchor": "center",
          "xref": "paper",
          "y": 0.2777777777777778,
          "yanchor": "bottom",
          "yref": "paper"
         },
         {
          "font": {
           "size": 16
          },
          "showarrow": false,
          "text": "20-24",
          "x": 0.5,
          "xanchor": "center",
          "xref": "paper",
          "y": 0.09722222222222222,
          "yanchor": "bottom",
          "yref": "paper"
         }
        ],
        "barmode": "group",
        "height": 1550,
        "legend": {
         "tracegroupgap": 112
        },
        "template": {
         "data": {
          "bar": [
           {
            "error_x": {
             "color": "#2a3f5f"
            },
            "error_y": {
             "color": "#2a3f5f"
            },
            "marker": {
             "line": {
              "color": "#E5ECF6",
              "width": 0.5
             },
             "pattern": {
              "fillmode": "overlay",
              "size": 10,
              "solidity": 0.2
             }
            },
            "type": "bar"
           }
          ],
          "barpolar": [
           {
            "marker": {
             "line": {
              "color": "#E5ECF6",
              "width": 0.5
             },
             "pattern": {
              "fillmode": "overlay",
              "size": 10,
              "solidity": 0.2
             }
            },
            "type": "barpolar"
           }
          ],
          "carpet": [
           {
            "aaxis": {
             "endlinecolor": "#2a3f5f",
             "gridcolor": "white",
             "linecolor": "white",
             "minorgridcolor": "white",
             "startlinecolor": "#2a3f5f"
            },
            "baxis": {
             "endlinecolor": "#2a3f5f",
             "gridcolor": "white",
             "linecolor": "white",
             "minorgridcolor": "white",
             "startlinecolor": "#2a3f5f"
            },
            "type": "carpet"
           }
          ],
          "choropleth": [
           {
            "colorbar": {
             "outlinewidth": 0,
             "ticks": ""
            },
            "type": "choropleth"
           }
          ],
          "contour": [
           {
            "colorbar": {
             "outlinewidth": 0,
             "ticks": ""
            },
            "colorscale": [
             [
              0,
              "#0d0887"
             ],
             [
              0.1111111111111111,
              "#46039f"
             ],
             [
              0.2222222222222222,
              "#7201a8"
             ],
             [
              0.3333333333333333,
              "#9c179e"
             ],
             [
              0.4444444444444444,
              "#bd3786"
             ],
             [
              0.5555555555555556,
              "#d8576b"
             ],
             [
              0.6666666666666666,
              "#ed7953"
             ],
             [
              0.7777777777777778,
              "#fb9f3a"
             ],
             [
              0.8888888888888888,
              "#fdca26"
             ],
             [
              1,
              "#f0f921"
             ]
            ],
            "type": "contour"
           }
          ],
          "contourcarpet": [
           {
            "colorbar": {
             "outlinewidth": 0,
             "ticks": ""
            },
            "type": "contourcarpet"
           }
          ],
          "heatmap": [
           {
            "colorbar": {
             "outlinewidth": 0,
             "ticks": ""
            },
            "colorscale": [
             [
              0,
              "#0d0887"
             ],
             [
              0.1111111111111111,
              "#46039f"
             ],
             [
              0.2222222222222222,
              "#7201a8"
             ],
             [
              0.3333333333333333,
              "#9c179e"
             ],
             [
              0.4444444444444444,
              "#bd3786"
             ],
             [
              0.5555555555555556,
              "#d8576b"
             ],
             [
              0.6666666666666666,
              "#ed7953"
             ],
             [
              0.7777777777777778,
              "#fb9f3a"
             ],
             [
              0.8888888888888888,
              "#fdca26"
             ],
             [
              1,
              "#f0f921"
             ]
            ],
            "type": "heatmap"
           }
          ],
          "heatmapgl": [
           {
            "colorbar": {
             "outlinewidth": 0,
             "ticks": ""
            },
            "colorscale": [
             [
              0,
              "#0d0887"
             ],
             [
              0.1111111111111111,
              "#46039f"
             ],
             [
              0.2222222222222222,
              "#7201a8"
             ],
             [
              0.3333333333333333,
              "#9c179e"
             ],
             [
              0.4444444444444444,
              "#bd3786"
             ],
             [
              0.5555555555555556,
              "#d8576b"
             ],
             [
              0.6666666666666666,
              "#ed7953"
             ],
             [
              0.7777777777777778,
              "#fb9f3a"
             ],
             [
              0.8888888888888888,
              "#fdca26"
             ],
             [
              1,
              "#f0f921"
             ]
            ],
            "type": "heatmapgl"
           }
          ],
          "histogram": [
           {
            "marker": {
             "pattern": {
              "fillmode": "overlay",
              "size": 10,
              "solidity": 0.2
             }
            },
            "type": "histogram"
           }
          ],
          "histogram2d": [
           {
            "colorbar": {
             "outlinewidth": 0,
             "ticks": ""
            },
            "colorscale": [
             [
              0,
              "#0d0887"
             ],
             [
              0.1111111111111111,
              "#46039f"
             ],
             [
              0.2222222222222222,
              "#7201a8"
             ],
             [
              0.3333333333333333,
              "#9c179e"
             ],
             [
              0.4444444444444444,
              "#bd3786"
             ],
             [
              0.5555555555555556,
              "#d8576b"
             ],
             [
              0.6666666666666666,
              "#ed7953"
             ],
             [
              0.7777777777777778,
              "#fb9f3a"
             ],
             [
              0.8888888888888888,
              "#fdca26"
             ],
             [
              1,
              "#f0f921"
             ]
            ],
            "type": "histogram2d"
           }
          ],
          "histogram2dcontour": [
           {
            "colorbar": {
             "outlinewidth": 0,
             "ticks": ""
            },
            "colorscale": [
             [
              0,
              "#0d0887"
             ],
             [
              0.1111111111111111,
              "#46039f"
             ],
             [
              0.2222222222222222,
              "#7201a8"
             ],
             [
              0.3333333333333333,
              "#9c179e"
             ],
             [
              0.4444444444444444,
              "#bd3786"
             ],
             [
              0.5555555555555556,
              "#d8576b"
             ],
             [
              0.6666666666666666,
              "#ed7953"
             ],
             [
              0.7777777777777778,
              "#fb9f3a"
             ],
             [
              0.8888888888888888,
              "#fdca26"
             ],
             [
              1,
              "#f0f921"
             ]
            ],
            "type": "histogram2dcontour"
           }
          ],
          "mesh3d": [
           {
            "colorbar": {
             "outlinewidth": 0,
             "ticks": ""
            },
            "type": "mesh3d"
           }
          ],
          "parcoords": [
           {
            "line": {
             "colorbar": {
              "outlinewidth": 0,
              "ticks": ""
             }
            },
            "type": "parcoords"
           }
          ],
          "pie": [
           {
            "automargin": true,
            "type": "pie"
           }
          ],
          "scatter": [
           {
            "fillpattern": {
             "fillmode": "overlay",
             "size": 10,
             "solidity": 0.2
            },
            "type": "scatter"
           }
          ],
          "scatter3d": [
           {
            "line": {
             "colorbar": {
              "outlinewidth": 0,
              "ticks": ""
             }
            },
            "marker": {
             "colorbar": {
              "outlinewidth": 0,
              "ticks": ""
             }
            },
            "type": "scatter3d"
           }
          ],
          "scattercarpet": [
           {
            "marker": {
             "colorbar": {
              "outlinewidth": 0,
              "ticks": ""
             }
            },
            "type": "scattercarpet"
           }
          ],
          "scattergeo": [
           {
            "marker": {
             "colorbar": {
              "outlinewidth": 0,
              "ticks": ""
             }
            },
            "type": "scattergeo"
           }
          ],
          "scattergl": [
           {
            "marker": {
             "colorbar": {
              "outlinewidth": 0,
              "ticks": ""
             }
            },
            "type": "scattergl"
           }
          ],
          "scattermapbox": [
           {
            "marker": {
             "colorbar": {
              "outlinewidth": 0,
              "ticks": ""
             }
            },
            "type": "scattermapbox"
           }
          ],
          "scatterpolar": [
           {
            "marker": {
             "colorbar": {
              "outlinewidth": 0,
              "ticks": ""
             }
            },
            "type": "scatterpolar"
           }
          ],
          "scatterpolargl": [
           {
            "marker": {
             "colorbar": {
              "outlinewidth": 0,
              "ticks": ""
             }
            },
            "type": "scatterpolargl"
           }
          ],
          "scatterternary": [
           {
            "marker": {
             "colorbar": {
              "outlinewidth": 0,
              "ticks": ""
             }
            },
            "type": "scatterternary"
           }
          ],
          "surface": [
           {
            "colorbar": {
             "outlinewidth": 0,
             "ticks": ""
            },
            "colorscale": [
             [
              0,
              "#0d0887"
             ],
             [
              0.1111111111111111,
              "#46039f"
             ],
             [
              0.2222222222222222,
              "#7201a8"
             ],
             [
              0.3333333333333333,
              "#9c179e"
             ],
             [
              0.4444444444444444,
              "#bd3786"
             ],
             [
              0.5555555555555556,
              "#d8576b"
             ],
             [
              0.6666666666666666,
              "#ed7953"
             ],
             [
              0.7777777777777778,
              "#fb9f3a"
             ],
             [
              0.8888888888888888,
              "#fdca26"
             ],
             [
              1,
              "#f0f921"
             ]
            ],
            "type": "surface"
           }
          ],
          "table": [
           {
            "cells": {
             "fill": {
              "color": "#EBF0F8"
             },
             "line": {
              "color": "white"
             }
            },
            "header": {
             "fill": {
              "color": "#C8D4E3"
             },
             "line": {
              "color": "white"
             }
            },
            "type": "table"
           }
          ]
         },
         "layout": {
          "annotationdefaults": {
           "arrowcolor": "#2a3f5f",
           "arrowhead": 0,
           "arrowwidth": 1
          },
          "autotypenumbers": "strict",
          "coloraxis": {
           "colorbar": {
            "outlinewidth": 0,
            "ticks": ""
           }
          },
          "colorscale": {
           "diverging": [
            [
             0,
             "#8e0152"
            ],
            [
             0.1,
             "#c51b7d"
            ],
            [
             0.2,
             "#de77ae"
            ],
            [
             0.3,
             "#f1b6da"
            ],
            [
             0.4,
             "#fde0ef"
            ],
            [
             0.5,
             "#f7f7f7"
            ],
            [
             0.6,
             "#e6f5d0"
            ],
            [
             0.7,
             "#b8e186"
            ],
            [
             0.8,
             "#7fbc41"
            ],
            [
             0.9,
             "#4d9221"
            ],
            [
             1,
             "#276419"
            ]
           ],
           "sequential": [
            [
             0,
             "#0d0887"
            ],
            [
             0.1111111111111111,
             "#46039f"
            ],
            [
             0.2222222222222222,
             "#7201a8"
            ],
            [
             0.3333333333333333,
             "#9c179e"
            ],
            [
             0.4444444444444444,
             "#bd3786"
            ],
            [
             0.5555555555555556,
             "#d8576b"
            ],
            [
             0.6666666666666666,
             "#ed7953"
            ],
            [
             0.7777777777777778,
             "#fb9f3a"
            ],
            [
             0.8888888888888888,
             "#fdca26"
            ],
            [
             1,
             "#f0f921"
            ]
           ],
           "sequentialminus": [
            [
             0,
             "#0d0887"
            ],
            [
             0.1111111111111111,
             "#46039f"
            ],
            [
             0.2222222222222222,
             "#7201a8"
            ],
            [
             0.3333333333333333,
             "#9c179e"
            ],
            [
             0.4444444444444444,
             "#bd3786"
            ],
            [
             0.5555555555555556,
             "#d8576b"
            ],
            [
             0.6666666666666666,
             "#ed7953"
            ],
            [
             0.7777777777777778,
             "#fb9f3a"
            ],
            [
             0.8888888888888888,
             "#fdca26"
            ],
            [
             1,
             "#f0f921"
            ]
           ]
          },
          "colorway": [
           "#636efa",
           "#EF553B",
           "#00cc96",
           "#ab63fa",
           "#FFA15A",
           "#19d3f3",
           "#FF6692",
           "#B6E880",
           "#FF97FF",
           "#FECB52"
          ],
          "font": {
           "color": "#2a3f5f"
          },
          "geo": {
           "bgcolor": "white",
           "lakecolor": "white",
           "landcolor": "#E5ECF6",
           "showlakes": true,
           "showland": true,
           "subunitcolor": "white"
          },
          "hoverlabel": {
           "align": "left"
          },
          "hovermode": "closest",
          "mapbox": {
           "style": "light"
          },
          "paper_bgcolor": "white",
          "plot_bgcolor": "#E5ECF6",
          "polar": {
           "angularaxis": {
            "gridcolor": "white",
            "linecolor": "white",
            "ticks": ""
           },
           "bgcolor": "#E5ECF6",
           "radialaxis": {
            "gridcolor": "white",
            "linecolor": "white",
            "ticks": ""
           }
          },
          "scene": {
           "xaxis": {
            "backgroundcolor": "#E5ECF6",
            "gridcolor": "white",
            "gridwidth": 2,
            "linecolor": "white",
            "showbackground": true,
            "ticks": "",
            "zerolinecolor": "white"
           },
           "yaxis": {
            "backgroundcolor": "#E5ECF6",
            "gridcolor": "white",
            "gridwidth": 2,
            "linecolor": "white",
            "showbackground": true,
            "ticks": "",
            "zerolinecolor": "white"
           },
           "zaxis": {
            "backgroundcolor": "#E5ECF6",
            "gridcolor": "white",
            "gridwidth": 2,
            "linecolor": "white",
            "showbackground": true,
            "ticks": "",
            "zerolinecolor": "white"
           }
          },
          "shapedefaults": {
           "line": {
            "color": "#2a3f5f"
           }
          },
          "ternary": {
           "aaxis": {
            "gridcolor": "white",
            "linecolor": "white",
            "ticks": ""
           },
           "baxis": {
            "gridcolor": "white",
            "linecolor": "white",
            "ticks": ""
           },
           "bgcolor": "#E5ECF6",
           "caxis": {
            "gridcolor": "white",
            "linecolor": "white",
            "ticks": ""
           }
          },
          "title": {
           "x": 0.05
          },
          "xaxis": {
           "automargin": true,
           "gridcolor": "white",
           "linecolor": "white",
           "ticks": "",
           "title": {
            "standoff": 15
           },
           "zerolinecolor": "white",
           "zerolinewidth": 2
          },
          "yaxis": {
           "automargin": true,
           "gridcolor": "white",
           "linecolor": "white",
           "ticks": "",
           "title": {
            "standoff": 15
           },
           "zerolinecolor": "white",
           "zerolinewidth": 2
          }
         }
        },
        "title": {
         "text": "Ranking divied to intervals"
        },
        "width": 1000,
        "xaxis": {
         "anchor": "y",
         "autorange": true,
         "domain": [
          0,
          1
         ],
         "range": [
          0.5,
          7.5
         ],
         "title": {
          "text": "Place in ranking"
         },
         "type": "linear"
        },
        "xaxis2": {
         "anchor": "y2",
         "autorange": true,
         "domain": [
          0,
          1
         ],
         "range": [
          0.5,
          7.5
         ],
         "title": {
          "text": "Place in ranking"
         },
         "type": "linear"
        },
        "xaxis3": {
         "anchor": "y3",
         "autorange": true,
         "domain": [
          0,
          1
         ],
         "range": [
          0.5,
          7.5
         ],
         "title": {
          "text": "Place in ranking"
         },
         "type": "linear"
        },
        "xaxis4": {
         "anchor": "y4",
         "autorange": true,
         "domain": [
          0,
          1
         ],
         "range": [
          0.5,
          7.5
         ],
         "title": {
          "text": "Place in ranking"
         },
         "type": "linear"
        },
        "xaxis5": {
         "anchor": "y5",
         "autorange": true,
         "domain": [
          0,
          1
         ],
         "range": [
          0.5,
          7.5
         ],
         "title": {
          "text": "Place in ranking"
         },
         "type": "linear"
        },
        "xaxis6": {
         "anchor": "y6",
         "autorange": true,
         "domain": [
          0,
          1
         ],
         "range": [
          0.5,
          7.5
         ],
         "title": {
          "text": "Place in ranking"
         },
         "type": "linear"
        },
        "yaxis": {
         "anchor": "x",
         "autorange": true,
         "domain": [
          0.9027777777777777,
          0.9999999999999999
         ],
         "range": [
          0,
          26.315789473684212
         ],
         "title": {
          "text": "Counts"
         },
         "type": "linear"
        },
        "yaxis2": {
         "anchor": "x2",
         "autorange": true,
         "domain": [
          0.7222222222222222,
          0.8194444444444444
         ],
         "range": [
          0,
          27.36842105263158
         ],
         "title": {
          "text": "Counts"
         },
         "type": "linear"
        },
        "yaxis3": {
         "anchor": "x3",
         "autorange": true,
         "domain": [
          0.5416666666666667,
          0.638888888888889
         ],
         "range": [
          0,
          27.36842105263158
         ],
         "title": {
          "text": "Counts"
         },
         "type": "linear"
        },
        "yaxis4": {
         "anchor": "x4",
         "autorange": true,
         "domain": [
          0.3611111111111111,
          0.4583333333333333
         ],
         "range": [
          0,
          32.631578947368425
         ],
         "title": {
          "text": "Counts"
         },
         "type": "linear"
        },
        "yaxis5": {
         "anchor": "x5",
         "autorange": true,
         "domain": [
          0.18055555555555555,
          0.2777777777777778
         ],
         "range": [
          0,
          31.57894736842105
         ],
         "title": {
          "text": "Counts"
         },
         "type": "linear"
        },
        "yaxis6": {
         "anchor": "x6",
         "autorange": true,
         "domain": [
          0,
          0.09722222222222222
         ],
         "range": [
          0,
          35.78947368421053
         ],
         "title": {
          "text": "Counts"
         },
         "type": "linear"
        }
       }
      },
      "image/png": "[encoded data removed]",
      "text/html": [
       "<div>                            <div id=\"66914088-8012-42be-ae03-3737a9901d78\" class=\"plotly-graph-div\" style=\"height:1550px; width:1000px;\"></div>            <script type=\"text/javascript\">                require([\"plotly\"], function(Plotly) {                    window.PLOTLYENV=window.PLOTLYENV || {};                                    if (document.getElementById(\"66914088-8012-42be-ae03-3737a9901d78\")) {                    Plotly.newPlot(                        \"66914088-8012-42be-ae03-3737a9901d78\",                        [{\"legendgroup\":\"0-4\",\"name\":\"Monday\",\"x\":[1,2,3,4,5,6,7],\"y\":[14.0,11.0,10.0,8.0,3.0,6.0,null],\"type\":\"bar\",\"xaxis\":\"x\",\"yaxis\":\"y\"},{\"legendgroup\":\"0-4\",\"name\":\"Tuesday\",\"x\":[1,2,3,4,5,6,7],\"y\":[5.0,8.0,11.0,9.0,10.0,8.0,1.0],\"type\":\"bar\",\"xaxis\":\"x\",\"yaxis\":\"y\"},{\"legendgroup\":\"0-4\",\"name\":\"Wednesday\",\"x\":[1,2,3,4,5,6,7],\"y\":[13.0,8.0,5.0,7.0,11.0,5.0,3.0],\"type\":\"bar\",\"xaxis\":\"x\",\"yaxis\":\"y\"},{\"legendgroup\":\"0-4\",\"name\":\"Thursday\",\"x\":[1,2,3,4,5,6,7],\"y\":[9.0,11.0,5.0,10.0,8.0,6.0,3.0],\"type\":\"bar\",\"xaxis\":\"x\",\"yaxis\":\"y\"},{\"legendgroup\":\"0-4\",\"name\":\"Friday\",\"x\":[1,2,3,4,5,6,7],\"y\":[8.0,10.0,10.0,8.0,8.0,6.0,2.0],\"type\":\"bar\",\"xaxis\":\"x\",\"yaxis\":\"y\"},{\"legendgroup\":\"0-4\",\"name\":\"Saturday\",\"x\":[1,2,3,4,5,6,7],\"y\":[2.0,2.0,5.0,7.0,4.0,14.0,18.0],\"type\":\"bar\",\"xaxis\":\"x\",\"yaxis\":\"y\"},{\"legendgroup\":\"0-4\",\"name\":\"Sunday\",\"x\":[1,2,3,4,5,6,7],\"y\":[1.0,2.0,6.0,3.0,8.0,7.0,25.0],\"type\":\"bar\",\"xaxis\":\"x\",\"yaxis\":\"y\"},{\"legendgroup\":\"4-8\",\"name\":\"Monday\",\"x\":[1,2,3,4,5,6,7],\"y\":[11.0,9.0,10.0,6.0,12.0,1.0,3.0],\"type\":\"bar\",\"xaxis\":\"x2\",\"yaxis\":\"y2\"},{\"legendgroup\":\"4-8\",\"name\":\"Tuesday\",\"x\":[1,2,3,4,5,6,7],\"y\":[8.0,9.0,8.0,9.0,5.0,12.0,1.0],\"type\":\"bar\",\"xaxis\":\"x2\",\"yaxis\":\"y2\"},{\"legendgroup\":\"4-8\",\"name\":\"Wednesday\",\"x\":[1,2,3,4,5,6,7],\"y\":[10.0,11.0,7.0,8.0,7.0,7.0,2.0],\"type\":\"bar\",\"xaxis\":\"x2\",\"yaxis\":\"y2\"},{\"legendgroup\":\"4-8\",\"name\":\"Thursday\",\"x\":[1,2,3,4,5,6,7],\"y\":[8.0,9.0,9.0,12.0,8.0,6.0,null],\"type\":\"bar\",\"xaxis\":\"x2\",\"yaxis\":\"y2\"},{\"legendgroup\":\"4-8\",\"name\":\"Friday\",\"x\":[1,2,3,4,5,6,7],\"y\":[11.0,10.0,7.0,10.0,9.0,4.0,1.0],\"type\":\"bar\",\"xaxis\":\"x2\",\"yaxis\":\"y2\"},{\"legendgroup\":\"4-8\",\"name\":\"Saturday\",\"x\":[1,2,3,4,5,6,7],\"y\":[4.0,2.0,6.0,1.0,7.0,13.0,19.0],\"type\":\"bar\",\"xaxis\":\"x2\",\"yaxis\":\"y2\"},{\"legendgroup\":\"4-8\",\"name\":\"Sunday\",\"x\":[1,2,3,4,5,6,7],\"y\":[null,2.0,5.0,6.0,4.0,9.0,26.0],\"type\":\"bar\",\"xaxis\":\"x2\",\"yaxis\":\"y2\"},{\"legendgroup\":\"8-12\",\"name\":\"Monday\",\"x\":[1,2,3,4,5,6,7],\"y\":[15.0,7.0,10.0,5.0,8.0,5.0,2.0],\"type\":\"bar\",\"xaxis\":\"x3\",\"yaxis\":\"y3\"},{\"legendgroup\":\"8-12\",\"name\":\"Tuesday\",\"x\":[1,2,3,4,5,6,7],\"y\":[7.0,14.0,10.0,8.0,10.0,3.0,null],\"type\":\"bar\",\"xaxis\":\"x3\",\"yaxis\":\"y3\"},{\"legendgroup\":\"8-12\",\"name\":\"Wednesday\",\"x\":[1,2,3,4,5,6,7],\"y\":[10.0,8.0,6.0,17.0,7.0,3.0,1.0],\"type\":\"bar\",\"xaxis\":\"x3\",\"yaxis\":\"y3\"},{\"legendgroup\":\"8-12\",\"name\":\"Thursday\",\"x\":[1,2,3,4,5,6,7],\"y\":[7.0,14.0,12.0,6.0,8.0,5.0,null],\"type\":\"bar\",\"xaxis\":\"x3\",\"yaxis\":\"y3\"},{\"legendgroup\":\"8-12\",\"name\":\"Friday\",\"x\":[1,2,3,4,5,6,7],\"y\":[10.0,4.0,11.0,13.0,6.0,8.0,null],\"type\":\"bar\",\"xaxis\":\"x3\",\"yaxis\":\"y3\"},{\"legendgroup\":\"8-12\",\"name\":\"Saturday\",\"x\":[1,2,3,4,5,6,7],\"y\":[3.0,3.0,1.0,1.0,8.0,13.0,23.0],\"type\":\"bar\",\"xaxis\":\"x3\",\"yaxis\":\"y3\"},{\"legendgroup\":\"8-12\",\"name\":\"Sunday\",\"x\":[1,2,3,4,5,6,7],\"y\":[null,2.0,2.0,2.0,5.0,15.0,26.0],\"type\":\"bar\",\"xaxis\":\"x3\",\"yaxis\":\"y3\"},{\"legendgroup\":\"12-16\",\"name\":\"Monday\",\"x\":[1,2,3,4,5,6,7],\"y\":[8.0,5.0,13.0,11.0,8.0,6.0,1.0],\"type\":\"bar\",\"xaxis\":\"x4\",\"yaxis\":\"y4\"},{\"legendgroup\":\"12-16\",\"name\":\"Tuesday\",\"x\":[1,2,3,4,5,6,7],\"y\":[10.0,11.0,9.0,10.0,8.0,4.0,null],\"type\":\"bar\",\"xaxis\":\"x4\",\"yaxis\":\"y4\"},{\"legendgroup\":\"12-16\",\"name\":\"Wednesday\",\"x\":[1,2,3,4,5,6,7],\"y\":[13.0,10.0,12.0,6.0,8.0,2.0,1.0],\"type\":\"bar\",\"xaxis\":\"x4\",\"yaxis\":\"y4\"},{\"legendgroup\":\"12-16\",\"name\":\"Thursday\",\"x\":[1,2,3,4,5,6,7],\"y\":[14.0,10.0,6.0,12.0,9.0,1.0,null],\"type\":\"bar\",\"xaxis\":\"x4\",\"yaxis\":\"y4\"},{\"legendgroup\":\"12-16\",\"name\":\"Friday\",\"x\":[1,2,3,4,5,6,7],\"y\":[7.0,15.0,9.0,9.0,8.0,4.0,null],\"type\":\"bar\",\"xaxis\":\"x4\",\"yaxis\":\"y4\"},{\"legendgroup\":\"12-16\",\"name\":\"Saturday\",\"x\":[1,2,3,4,5,6,7],\"y\":[null,1.0,2.0,1.0,5.0,12.0,31.0],\"type\":\"bar\",\"xaxis\":\"x4\",\"yaxis\":\"y4\"},{\"legendgroup\":\"12-16\",\"name\":\"Sunday\",\"x\":[1,2,3,4,5,6,7],\"y\":[null,null,1.0,3.0,6.0,23.0,19.0],\"type\":\"bar\",\"xaxis\":\"x4\",\"yaxis\":\"y4\"},{\"legendgroup\":\"16-20\",\"name\":\"Monday\",\"x\":[1,2,3,4,5,6,7],\"y\":[9.0,11.0,9.0,5.0,10.0,7.0,1.0],\"type\":\"bar\",\"xaxis\":\"x5\",\"yaxis\":\"y5\"},{\"legendgroup\":\"16-20\",\"name\":\"Tuesday\",\"x\":[1,2,3,4,5,6,7],\"y\":[10.0,9.0,12.0,8.0,9.0,4.0,null],\"type\":\"bar\",\"xaxis\":\"x5\",\"yaxis\":\"y5\"},{\"legendgroup\":\"16-20\",\"name\":\"Wednesday\",\"x\":[1,2,3,4,5,6,7],\"y\":[16.0,7.0,7.0,15.0,6.0,1.0,null],\"type\":\"bar\",\"xaxis\":\"x5\",\"yaxis\":\"y5\"},{\"legendgroup\":\"16-20\",\"name\":\"Thursday\",\"x\":[1,2,3,4,5,6,7],\"y\":[10.0,10.0,10.0,8.0,9.0,2.0,3.0],\"type\":\"bar\",\"xaxis\":\"x5\",\"yaxis\":\"y5\"},{\"legendgroup\":\"16-20\",\"name\":\"Friday\",\"x\":[1,2,3,4,5,6,7],\"y\":[5.0,9.0,9.0,9.0,9.0,10.0,1.0],\"type\":\"bar\",\"xaxis\":\"x5\",\"yaxis\":\"y5\"},{\"legendgroup\":\"16-20\",\"name\":\"Saturday\",\"x\":[1,2,3,4,5,6,7],\"y\":[1.0,2.0,1.0,2.0,3.0,13.0,30.0],\"type\":\"bar\",\"xaxis\":\"x5\",\"yaxis\":\"y5\"},{\"legendgroup\":\"16-20\",\"name\":\"Sunday\",\"x\":[1,2,3,4,5,6,7],\"y\":[1.0,4.0,4.0,5.0,6.0,15.0,17.0],\"type\":\"bar\",\"xaxis\":\"x5\",\"yaxis\":\"y5\"},{\"legendgroup\":\"20-24\",\"name\":\"Monday\",\"x\":[1,2,3,4,5,6,7],\"y\":[6.0,9.0,7.0,11.0,8.0,7.0,4.0],\"type\":\"bar\",\"xaxis\":\"x6\",\"yaxis\":\"y6\"},{\"legendgroup\":\"20-24\",\"name\":\"Tuesday\",\"x\":[1,2,3,4,5,6,7],\"y\":[7.0,10.0,8.0,10.0,8.0,8.0,1.0],\"type\":\"bar\",\"xaxis\":\"x6\",\"yaxis\":\"y6\"},{\"legendgroup\":\"20-24\",\"name\":\"Wednesday\",\"x\":[1,2,3,4,5,6,7],\"y\":[15.0,12.0,5.0,9.0,4.0,7.0,null],\"type\":\"bar\",\"xaxis\":\"x6\",\"yaxis\":\"y6\"},{\"legendgroup\":\"20-24\",\"name\":\"Thursday\",\"x\":[1,2,3,4,5,6,7],\"y\":[8.0,6.0,10.0,4.0,12.0,9.0,3.0],\"type\":\"bar\",\"xaxis\":\"x6\",\"yaxis\":\"y6\"},{\"legendgroup\":\"20-24\",\"name\":\"Friday\",\"x\":[1,2,3,4,5,6,7],\"y\":[7.0,4.0,11.0,2.0,12.0,12.0,4.0],\"type\":\"bar\",\"xaxis\":\"x6\",\"yaxis\":\"y6\"},{\"legendgroup\":\"20-24\",\"name\":\"Saturday\",\"x\":[1,2,3,4,5,6,7],\"y\":[1.0,4.0,2.0,3.0,2.0,6.0,34.0],\"type\":\"bar\",\"xaxis\":\"x6\",\"yaxis\":\"y6\"},{\"legendgroup\":\"20-24\",\"name\":\"Sunday\",\"x\":[1,2,3,4,5,6,7],\"y\":[8.0,7.0,9.0,13.0,6.0,3.0,6.0],\"type\":\"bar\",\"xaxis\":\"x6\",\"yaxis\":\"y6\"}],                        {\"template\":{\"data\":{\"histogram2dcontour\":[{\"type\":\"histogram2dcontour\",\"colorbar\":{\"outlinewidth\":0,\"ticks\":\"\"},\"colorscale\":[[0.0,\"#0d0887\"],[0.1111111111111111,\"#46039f\"],[0.2222222222222222,\"#7201a8\"],[0.3333333333333333,\"#9c179e\"],[0.4444444444444444,\"#bd3786\"],[0.5555555555555556,\"#d8576b\"],[0.6666666666666666,\"#ed7953\"],[0.7777777777777778,\"#fb9f3a\"],[0.8888888888888888,\"#fdca26\"],[1.0,\"#f0f921\"]]}],\"choropleth\":[{\"type\":\"choropleth\",\"colorbar\":{\"outlinewidth\":0,\"ticks\":\"\"}}],\"histogram2d\":[{\"type\":\"histogram2d\",\"colorbar\":{\"outlinewidth\":0,\"ticks\":\"\"},\"colorscale\":[[0.0,\"#0d0887\"],[0.1111111111111111,\"#46039f\"],[0.2222222222222222,\"#7201a8\"],[0.3333333333333333,\"#9c179e\"],[0.4444444444444444,\"#bd3786\"],[0.5555555555555556,\"#d8576b\"],[0.6666666666666666,\"#ed7953\"],[0.7777777777777778,\"#fb9f3a\"],[0.8888888888888888,\"#fdca26\"],[1.0,\"#f0f921\"]]}],\"heatmap\":[{\"type\":\"heatmap\",\"colorbar\":{\"outlinewidth\":0,\"ticks\":\"\"},\"colorscale\":[[0.0,\"#0d0887\"],[0.1111111111111111,\"#46039f\"],[0.2222222222222222,\"#7201a8\"],[0.3333333333333333,\"#9c179e\"],[0.4444444444444444,\"#bd3786\"],[0.5555555555555556,\"#d8576b\"],[0.6666666666666666,\"#ed7953\"],[0.7777777777777778,\"#fb9f3a\"],[0.8888888888888888,\"#fdca26\"],[1.0,\"#f0f921\"]]}],\"heatmapgl\":[{\"type\":\"heatmapgl\",\"colorbar\":{\"outlinewidth\":0,\"ticks\":\"\"},\"colorscale\":[[0.0,\"#0d0887\"],[0.1111111111111111,\"#46039f\"],[0.2222222222222222,\"#7201a8\"],[0.3333333333333333,\"#9c179e\"],[0.4444444444444444,\"#bd3786\"],[0.5555555555555556,\"#d8576b\"],[0.6666666666666666,\"#ed7953\"],[0.7777777777777778,\"#fb9f3a\"],[0.8888888888888888,\"#fdca26\"],[1.0,\"#f0f921\"]]}],\"contourcarpet\":[{\"type\":\"contourcarpet\",\"colorbar\":{\"outlinewidth\":0,\"ticks\":\"\"}}],\"contour\":[{\"type\":\"contour\",\"colorbar\":{\"outlinewidth\":0,\"ticks\":\"\"},\"colorscale\":[[0.0,\"#0d0887\"],[0.1111111111111111,\"#46039f\"],[0.2222222222222222,\"#7201a8\"],[0.3333333333333333,\"#9c179e\"],[0.4444444444444444,\"#bd3786\"],[0.5555555555555556,\"#d8576b\"],[0.6666666666666666,\"#ed7953\"],[0.7777777777777778,\"#fb9f3a\"],[0.8888888888888888,\"#fdca26\"],[1.0,\"#f0f921\"]]}],\"surface\":[{\"type\":\"surface\",\"colorbar\":{\"outlinewidth\":0,\"ticks\":\"\"},\"colorscale\":[[0.0,\"#0d0887\"],[0.1111111111111111,\"#46039f\"],[0.2222222222222222,\"#7201a8\"],[0.3333333333333333,\"#9c179e\"],[0.4444444444444444,\"#bd3786\"],[0.5555555555555556,\"#d8576b\"],[0.6666666666666666,\"#ed7953\"],[0.7777777777777778,\"#fb9f3a\"],[0.8888888888888888,\"#fdca26\"],[1.0,\"#f0f921\"]]}],\"mesh3d\":[{\"type\":\"mesh3d\",\"colorbar\":{\"outlinewidth\":0,\"ticks\":\"\"}}],\"scatter\":[{\"fillpattern\":{\"fillmode\":\"overlay\",\"size\":10,\"solidity\":0.2},\"type\":\"scatter\"}],\"parcoords\":[{\"type\":\"parcoords\",\"line\":{\"colorbar\":{\"outlinewidth\":0,\"ticks\":\"\"}}}],\"scatterpolargl\":[{\"type\":\"scatterpolargl\",\"marker\":{\"colorbar\":{\"outlinewidth\":0,\"ticks\":\"\"}}}],\"bar\":[{\"error_x\":{\"color\":\"#2a3f5f\"},\"error_y\":{\"color\":\"#2a3f5f\"},\"marker\":{\"line\":{\"color\":\"#E5ECF6\",\"width\":0.5},\"pattern\":{\"fillmode\":\"overlay\",\"size\":10,\"solidity\":0.2}},\"type\":\"bar\"}],\"scattergeo\":[{\"type\":\"scattergeo\",\"marker\":{\"colorbar\":{\"outlinewidth\":0,\"ticks\":\"\"}}}],\"scatterpolar\":[{\"type\":\"scatterpolar\",\"marker\":{\"colorbar\":{\"outlinewidth\":0,\"ticks\":\"\"}}}],\"histogram\":[{\"marker\":{\"pattern\":{\"fillmode\":\"overlay\",\"size\":10,\"solidity\":0.2}},\"type\":\"histogram\"}],\"scattergl\":[{\"type\":\"scattergl\",\"marker\":{\"colorbar\":{\"outlinewidth\":0,\"ticks\":\"\"}}}],\"scatter3d\":[{\"type\":\"scatter3d\",\"line\":{\"colorbar\":{\"outlinewidth\":0,\"ticks\":\"\"}},\"marker\":{\"colorbar\":{\"outlinewidth\":0,\"ticks\":\"\"}}}],\"scattermapbox\":[{\"type\":\"scattermapbox\",\"marker\":{\"colorbar\":{\"outlinewidth\":0,\"ticks\":\"\"}}}],\"scatterternary\":[{\"type\":\"scatterternary\",\"marker\":{\"colorbar\":{\"outlinewidth\":0,\"ticks\":\"\"}}}],\"scattercarpet\":[{\"type\":\"scattercarpet\",\"marker\":{\"colorbar\":{\"outlinewidth\":0,\"ticks\":\"\"}}}],\"carpet\":[{\"aaxis\":{\"endlinecolor\":\"#2a3f5f\",\"gridcolor\":\"white\",\"linecolor\":\"white\",\"minorgridcolor\":\"white\",\"startlinecolor\":\"#2a3f5f\"},\"baxis\":{\"endlinecolor\":\"#2a3f5f\",\"gridcolor\":\"white\",\"linecolor\":\"white\",\"minorgridcolor\":\"white\",\"startlinecolor\":\"#2a3f5f\"},\"type\":\"carpet\"}],\"table\":[{\"cells\":{\"fill\":{\"color\":\"#EBF0F8\"},\"line\":{\"color\":\"white\"}},\"header\":{\"fill\":{\"color\":\"#C8D4E3\"},\"line\":{\"color\":\"white\"}},\"type\":\"table\"}],\"barpolar\":[{\"marker\":{\"line\":{\"color\":\"#E5ECF6\",\"width\":0.5},\"pattern\":{\"fillmode\":\"overlay\",\"size\":10,\"solidity\":0.2}},\"type\":\"barpolar\"}],\"pie\":[{\"automargin\":true,\"type\":\"pie\"}]},\"layout\":{\"autotypenumbers\":\"strict\",\"colorway\":[\"#636efa\",\"#EF553B\",\"#00cc96\",\"#ab63fa\",\"#FFA15A\",\"#19d3f3\",\"#FF6692\",\"#B6E880\",\"#FF97FF\",\"#FECB52\"],\"font\":{\"color\":\"#2a3f5f\"},\"hovermode\":\"closest\",\"hoverlabel\":{\"align\":\"left\"},\"paper_bgcolor\":\"white\",\"plot_bgcolor\":\"#E5ECF6\",\"polar\":{\"bgcolor\":\"#E5ECF6\",\"angularaxis\":{\"gridcolor\":\"white\",\"linecolor\":\"white\",\"ticks\":\"\"},\"radialaxis\":{\"gridcolor\":\"white\",\"linecolor\":\"white\",\"ticks\":\"\"}},\"ternary\":{\"bgcolor\":\"#E5ECF6\",\"aaxis\":{\"gridcolor\":\"white\",\"linecolor\":\"white\",\"ticks\":\"\"},\"baxis\":{\"gridcolor\":\"white\",\"linecolor\":\"white\",\"ticks\":\"\"},\"caxis\":{\"gridcolor\":\"white\",\"linecolor\":\"white\",\"ticks\":\"\"}},\"coloraxis\":{\"colorbar\":{\"outlinewidth\":0,\"ticks\":\"\"}},\"colorscale\":{\"sequential\":[[0.0,\"#0d0887\"],[0.1111111111111111,\"#46039f\"],[0.2222222222222222,\"#7201a8\"],[0.3333333333333333,\"#9c179e\"],[0.4444444444444444,\"#bd3786\"],[0.5555555555555556,\"#d8576b\"],[0.6666666666666666,\"#ed7953\"],[0.7777777777777778,\"#fb9f3a\"],[0.8888888888888888,\"#fdca26\"],[1.0,\"#f0f921\"]],\"sequentialminus\":[[0.0,\"#0d0887\"],[0.1111111111111111,\"#46039f\"],[0.2222222222222222,\"#7201a8\"],[0.3333333333333333,\"#9c179e\"],[0.4444444444444444,\"#bd3786\"],[0.5555555555555556,\"#d8576b\"],[0.6666666666666666,\"#ed7953\"],[0.7777777777777778,\"#fb9f3a\"],[0.8888888888888888,\"#fdca26\"],[1.0,\"#f0f921\"]],\"diverging\":[[0,\"#8e0152\"],[0.1,\"#c51b7d\"],[0.2,\"#de77ae\"],[0.3,\"#f1b6da\"],[0.4,\"#fde0ef\"],[0.5,\"#f7f7f7\"],[0.6,\"#e6f5d0\"],[0.7,\"#b8e186\"],[0.8,\"#7fbc41\"],[0.9,\"#4d9221\"],[1,\"#276419\"]]},\"xaxis\":{\"gridcolor\":\"white\",\"linecolor\":\"white\",\"ticks\":\"\",\"title\":{\"standoff\":15},\"zerolinecolor\":\"white\",\"automargin\":true,\"zerolinewidth\":2},\"yaxis\":{\"gridcolor\":\"white\",\"linecolor\":\"white\",\"ticks\":\"\",\"title\":{\"standoff\":15},\"zerolinecolor\":\"white\",\"automargin\":true,\"zerolinewidth\":2},\"scene\":{\"xaxis\":{\"backgroundcolor\":\"#E5ECF6\",\"gridcolor\":\"white\",\"linecolor\":\"white\",\"showbackground\":true,\"ticks\":\"\",\"zerolinecolor\":\"white\",\"gridwidth\":2},\"yaxis\":{\"backgroundcolor\":\"#E5ECF6\",\"gridcolor\":\"white\",\"linecolor\":\"white\",\"showbackground\":true,\"ticks\":\"\",\"zerolinecolor\":\"white\",\"gridwidth\":2},\"zaxis\":{\"backgroundcolor\":\"#E5ECF6\",\"gridcolor\":\"white\",\"linecolor\":\"white\",\"showbackground\":true,\"ticks\":\"\",\"zerolinecolor\":\"white\",\"gridwidth\":2}},\"shapedefaults\":{\"line\":{\"color\":\"#2a3f5f\"}},\"annotationdefaults\":{\"arrowcolor\":\"#2a3f5f\",\"arrowhead\":0,\"arrowwidth\":1},\"geo\":{\"bgcolor\":\"white\",\"landcolor\":\"#E5ECF6\",\"subunitcolor\":\"white\",\"showland\":true,\"showlakes\":true,\"lakecolor\":\"white\"},\"title\":{\"x\":0.05},\"mapbox\":{\"style\":\"light\"}}},\"xaxis\":{\"anchor\":\"y\",\"domain\":[0.0,1.0],\"title\":{\"text\":\"Place in ranking\"}},\"yaxis\":{\"anchor\":\"x\",\"domain\":[0.9027777777777777,0.9999999999999999],\"title\":{\"text\":\"Counts\"}},\"xaxis2\":{\"anchor\":\"y2\",\"domain\":[0.0,1.0],\"title\":{\"text\":\"Place in ranking\"}},\"yaxis2\":{\"anchor\":\"x2\",\"domain\":[0.7222222222222222,0.8194444444444444],\"title\":{\"text\":\"Counts\"}},\"xaxis3\":{\"anchor\":\"y3\",\"domain\":[0.0,1.0],\"title\":{\"text\":\"Place in ranking\"}},\"yaxis3\":{\"anchor\":\"x3\",\"domain\":[0.5416666666666667,0.638888888888889],\"title\":{\"text\":\"Counts\"}},\"xaxis4\":{\"anchor\":\"y4\",\"domain\":[0.0,1.0],\"title\":{\"text\":\"Place in ranking\"}},\"yaxis4\":{\"anchor\":\"x4\",\"domain\":[0.3611111111111111,0.4583333333333333],\"title\":{\"text\":\"Counts\"}},\"xaxis5\":{\"anchor\":\"y5\",\"domain\":[0.0,1.0],\"title\":{\"text\":\"Place in ranking\"}},\"yaxis5\":{\"anchor\":\"x5\",\"domain\":[0.18055555555555555,0.2777777777777778],\"title\":{\"text\":\"Counts\"}},\"xaxis6\":{\"anchor\":\"y6\",\"domain\":[0.0,1.0],\"title\":{\"text\":\"Place in ranking\"}},\"yaxis6\":{\"anchor\":\"x6\",\"domain\":[0.0,0.09722222222222222],\"title\":{\"text\":\"Counts\"}},\"annotations\":[{\"font\":{\"size\":16},\"showarrow\":false,\"text\":\"0-4\",\"x\":0.5,\"xanchor\":\"center\",\"xref\":\"paper\",\"y\":0.9999999999999999,\"yanchor\":\"bottom\",\"yref\":\"paper\"},{\"font\":{\"size\":16},\"showarrow\":false,\"text\":\"4-8\",\"x\":0.5,\"xanchor\":\"center\",\"xref\":\"paper\",\"y\":0.8194444444444444,\"yanchor\":\"bottom\",\"yref\":\"paper\"},{\"font\":{\"size\":16},\"showarrow\":false,\"text\":\"8-12\",\"x\":0.5,\"xanchor\":\"center\",\"xref\":\"paper\",\"y\":0.638888888888889,\"yanchor\":\"bottom\",\"yref\":\"paper\"},{\"font\":{\"size\":16},\"showarrow\":false,\"text\":\"12-16\",\"x\":0.5,\"xanchor\":\"center\",\"xref\":\"paper\",\"y\":0.4583333333333333,\"yanchor\":\"bottom\",\"yref\":\"paper\"},{\"font\":{\"size\":16},\"showarrow\":false,\"text\":\"16-20\",\"x\":0.5,\"xanchor\":\"center\",\"xref\":\"paper\",\"y\":0.2777777777777778,\"yanchor\":\"bottom\",\"yref\":\"paper\"},{\"font\":{\"size\":16},\"showarrow\":false,\"text\":\"20-24\",\"x\":0.5,\"xanchor\":\"center\",\"xref\":\"paper\",\"y\":0.09722222222222222,\"yanchor\":\"bottom\",\"yref\":\"paper\"}],\"legend\":{\"tracegroupgap\":112},\"height\":1550,\"width\":1000,\"title\":{\"text\":\"Ranking divied to intervals\"},\"barmode\":\"group\"},                        {\"responsive\": true}                    ).then(function(){\n",
       "                            \n",
       "var gd = document.getElementById('66914088-8012-42be-ae03-3737a9901d78');\n",
       "var x = new MutationObserver(function (mutations, observer) {{\n",
       "        var display = window.getComputedStyle(gd).display;\n",
       "        if (!display || display === 'none') {{\n",
       "            console.log([gd, 'removed!']);\n",
       "            Plotly.purge(gd);\n",
       "            observer.disconnect();\n",
       "        }}\n",
       "}});\n",
       "\n",
       "// Listen for the removal of the full notebook cells\n",
       "var notebookContainer = gd.closest('#notebook-container');\n",
       "if (notebookContainer) {{\n",
       "    x.observe(notebookContainer, {childList: true});\n",
       "}}\n",
       "\n",
       "// Listen for the clearing of the current output cell\n",
       "var outputEl = gd.closest('.output');\n",
       "if (outputEl) {{\n",
       "    x.observe(outputEl, {childList: true});\n",
       "}}\n",
       "\n",
       "                        })                };                });            </script>        </div>"
      ]
     },
     "metadata": {},
     "output_type": "display_data"
    }
   ],
   "source": [
    "fig = make_subplots(rows=len(rankings), cols=1, subplot_titles=list(rankings.keys()), horizontal_spacing=0.8, row_heights=[0.9]*len(rankings))\n",
    "for i, (key, df) in enumerate(rankings.items(), start=1):\n",
    "    # Add a subplot for each DataFrame\n",
    "    for name in df.columns:\n",
    "        fig.add_trace(\n",
    "            go.Bar(name=name, x=df.index, y=df[name], legendgroup=key),\n",
    "            row=i,\n",
    "            col=1\n",
    "        )\n",
    "\n",
    "\n",
    "fig.update_layout(\n",
    "    height=1550,\n",
    "    width=1000,\n",
    "    title=\"Ranking divied to intervals\",\n",
    "    barmode='group',\n",
    "    legend_tracegroupgap=112\n",
    ")\n",
    "\n",
    "fig.update_xaxes(title_text='Place in ranking')\n",
    "fig.update_yaxes(title_text='Counts')"
   ]
  },
  {
   "cell_type": "markdown",
   "id": "cd70d603-def4-40bd-b3d9-25d2c84fc495",
   "metadata": {},
   "source": [
    "### Conclusion\n",
    "Throughout the year, most of the time, Saturday and Sunday saw the fewest transactions. However these transactions might have had greater volume than on the other days."
   ]
  }
 ],
 "metadata": {
  "kernelspec": {
   "display_name": "Python 3 (ipykernel)",
   "language": "python",
   "name": "python3"
  },
  "language_info": {
   "codemirror_mode": {
    "name": "ipython",
    "version": 3
   },
   "file_extension": ".py",
   "mimetype": "text/x-python",
   "name": "python",
   "nbconvert_exporter": "python",
   "pygments_lexer": "ipython3",
   "version": "3.12.2"
  }
 },
 "nbformat": 4,
 "nbformat_minor": 5
}
