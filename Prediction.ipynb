{
 "cells": [
  {
   "cell_type": "code",
   "execution_count": 19,
   "id": "647735ce-9d4d-4a2a-9219-538e75e609ed",
   "metadata": {},
   "outputs": [],
   "source": [
    "import os\n",
    "import datetime\n",
    "import pandas as pd\n",
    "import seaborn as sns\n",
    "\n",
    "from utils.preprocessing import *\n",
    "from sklearn.model_selection import train_test_split\n",
    "from sklearn.linear_model import LogisticRegression\n",
    "from sklearn.metrics import confusion_matrix, ConfusionMatrixDisplay"
   ]
  },
  {
   "cell_type": "markdown",
   "id": "a0e9f2d1-1e9c-4e63-b386-8bb8d080904f",
   "metadata": {
    "jp-MarkdownHeadingCollapsed": true
   },
   "source": [
    "## Gather data"
   ]
  },
  {
   "cell_type": "code",
   "execution_count": 2,
   "id": "b5960380-c360-4c64-94de-d201d52f511e",
   "metadata": {},
   "outputs": [],
   "source": [
    "if not os.path.exists('data'):\n",
    "    os.makedirs('data')\n",
    "\n",
    "filepath = os.path.join('data', 'data.parquet')\n",
    "if not os.path.isfile(filepath):\n",
    "    tmp_data = gather_data(start='2023-01-01 00:00:00', stop='2023-12-31 23:00:00')\n",
    "    tmp_data.to_parquet('data/data.parquet', compression='snappy')\n",
    "    "
   ]
  },
  {
   "cell_type": "markdown",
   "id": "0f3be601-e31b-4114-8131-51598aecbe95",
   "metadata": {
    "jp-MarkdownHeadingCollapsed": true
   },
   "source": [
    "## Load data"
   ]
  },
  {
   "cell_type": "code",
   "execution_count": 3,
   "id": "db9be3ea-3268-4b9a-a7ee-2ff0ceae06b5",
   "metadata": {},
   "outputs": [],
   "source": [
    "data = pd.read_parquet('data/data.parquet')"
   ]
  },
  {
   "cell_type": "code",
   "execution_count": 4,
   "id": "51b6b143-7f60-400d-b4b1-19487c6743ad",
   "metadata": {},
   "outputs": [
    {
     "data": {
      "text/html": [
       "<div>\n",
       "<style scoped>\n",
       "    .dataframe tbody tr th:only-of-type {\n",
       "        vertical-align: middle;\n",
       "    }\n",
       "\n",
       "    .dataframe tbody tr th {\n",
       "        vertical-align: top;\n",
       "    }\n",
       "\n",
       "    .dataframe thead th {\n",
       "        text-align: right;\n",
       "    }\n",
       "</style>\n",
       "<table border=\"1\" class=\"dataframe\">\n",
       "  <thead>\n",
       "    <tr style=\"text-align: right;\">\n",
       "      <th></th>\n",
       "      <th>open_time</th>\n",
       "      <th>close_time</th>\n",
       "      <th>open</th>\n",
       "      <th>high</th>\n",
       "      <th>low</th>\n",
       "      <th>close</th>\n",
       "      <th>volume</th>\n",
       "      <th>n_trades</th>\n",
       "    </tr>\n",
       "  </thead>\n",
       "  <tbody>\n",
       "    <tr>\n",
       "      <th>0</th>\n",
       "      <td>2023-01-01 00:00:00</td>\n",
       "      <td>2023-01-01 00:59:59.999</td>\n",
       "      <td>16541.77</td>\n",
       "      <td>16545.70</td>\n",
       "      <td>16508.39</td>\n",
       "      <td>16529.67</td>\n",
       "      <td>4364.83570</td>\n",
       "      <td>149854</td>\n",
       "    </tr>\n",
       "    <tr>\n",
       "      <th>1</th>\n",
       "      <td>2023-01-01 01:00:00</td>\n",
       "      <td>2023-01-01 01:59:59.999</td>\n",
       "      <td>16529.59</td>\n",
       "      <td>16556.80</td>\n",
       "      <td>16525.78</td>\n",
       "      <td>16551.47</td>\n",
       "      <td>3590.06669</td>\n",
       "      <td>126556</td>\n",
       "    </tr>\n",
       "    <tr>\n",
       "      <th>2</th>\n",
       "      <td>2023-01-01 02:00:00</td>\n",
       "      <td>2023-01-01 02:59:59.999</td>\n",
       "      <td>16551.47</td>\n",
       "      <td>16559.77</td>\n",
       "      <td>16538.14</td>\n",
       "      <td>16548.19</td>\n",
       "      <td>3318.84038</td>\n",
       "      <td>115398</td>\n",
       "    </tr>\n",
       "    <tr>\n",
       "      <th>3</th>\n",
       "      <td>2023-01-01 03:00:00</td>\n",
       "      <td>2023-01-01 03:59:59.999</td>\n",
       "      <td>16548.19</td>\n",
       "      <td>16548.19</td>\n",
       "      <td>16518.21</td>\n",
       "      <td>16533.04</td>\n",
       "      <td>4242.08050</td>\n",
       "      <td>137724</td>\n",
       "    </tr>\n",
       "    <tr>\n",
       "      <th>4</th>\n",
       "      <td>2023-01-01 04:00:00</td>\n",
       "      <td>2023-01-01 04:59:59.999</td>\n",
       "      <td>16533.04</td>\n",
       "      <td>16535.97</td>\n",
       "      <td>16511.92</td>\n",
       "      <td>16521.85</td>\n",
       "      <td>4285.00909</td>\n",
       "      <td>129535</td>\n",
       "    </tr>\n",
       "  </tbody>\n",
       "</table>\n",
       "</div>"
      ],
      "text/plain": [
       "            open_time              close_time      open      high       low  \\\n",
       "0 2023-01-01 00:00:00 2023-01-01 00:59:59.999  16541.77  16545.70  16508.39   \n",
       "1 2023-01-01 01:00:00 2023-01-01 01:59:59.999  16529.59  16556.80  16525.78   \n",
       "2 2023-01-01 02:00:00 2023-01-01 02:59:59.999  16551.47  16559.77  16538.14   \n",
       "3 2023-01-01 03:00:00 2023-01-01 03:59:59.999  16548.19  16548.19  16518.21   \n",
       "4 2023-01-01 04:00:00 2023-01-01 04:59:59.999  16533.04  16535.97  16511.92   \n",
       "\n",
       "      close      volume  n_trades  \n",
       "0  16529.67  4364.83570    149854  \n",
       "1  16551.47  3590.06669    126556  \n",
       "2  16548.19  3318.84038    115398  \n",
       "3  16533.04  4242.08050    137724  \n",
       "4  16521.85  4285.00909    129535  "
      ]
     },
     "execution_count": 4,
     "metadata": {},
     "output_type": "execute_result"
    }
   ],
   "source": [
    "data.head()"
   ]
  },
  {
   "cell_type": "markdown",
   "id": "27aeb4f2-ddc7-44d5-b4df-26097defa70a",
   "metadata": {},
   "source": [
    "## Prepare data"
   ]
  },
  {
   "cell_type": "code",
   "execution_count": 5,
   "id": "8fda13d7-269f-4353-b5c1-1c2a163d6665",
   "metadata": {},
   "outputs": [],
   "source": [
    "filtered_frame = data[['high', 'low', 'close', 'volume']]\n",
    "\n",
    "# zero replacement\n",
    "filtered_frame = zero_replacement(filtered_frame)\n",
    "\n",
    "# rates of return\n",
    "ror = rates_of_return(filtered_frame)\n",
    "\n",
    "# lag the data\n",
    "lagged_frame = lag_dataframe(ror, 'close')"
   ]
  },
  {
   "cell_type": "code",
   "execution_count": 12,
   "id": "7dfa9d65-6ae3-4ba9-a062-ec787b8414cb",
   "metadata": {},
   "outputs": [],
   "source": [
    "# split to training and testing data\n",
    "train, test = split_to_subsets(lagged_frame, seed=420)\n",
    "\n",
    "# scale the data\n",
    "scaled_train, scaled_test = normalize(train, test, exclude=['target'])\n",
    "\n",
    "# prepare X_train, y_train, X_test, y_test\n",
    "X_train, X_test = scaled_train.copy(), scaled_test.copy()\n",
    "y_train, y_test = X_train.pop('target'), X_test.pop('target')"
   ]
  },
  {
   "cell_type": "markdown",
   "id": "c89799e1-9237-4782-a969-e888ea607eb8",
   "metadata": {},
   "source": [
    "## Modelling"
   ]
  },
  {
   "cell_type": "markdown",
   "id": "f9a36c47-734f-4fda-9456-2226d2fa986a",
   "metadata": {},
   "source": [
    "### Logistic Regression"
   ]
  },
  {
   "cell_type": "code",
   "execution_count": 20,
   "id": "7547f3fd-3999-43f2-91ff-fe1539e13a12",
   "metadata": {},
   "outputs": [],
   "source": [
    "lr = LogisticRegression(multi_class='multinomial', random_state=42)\n",
    "lr.fit(X_train, y_train)\n",
    "y_pred = lr.predict(X_test)\n",
    "conf_matrix = confusion_matrix(y_test.to_numpy(), y_pred)"
   ]
  },
  {
   "cell_type": "code",
   "execution_count": 25,
   "id": "2bcf5a8d-4d06-4595-b1d8-aba9a1f49020",
   "metadata": {},
   "outputs": [
    {
     "data": {
      "text/plain": [
       "<sklearn.metrics._plot.confusion_matrix.ConfusionMatrixDisplay at 0x22a031f60f0>"
      ]
     },
     "execution_count": 25,
     "metadata": {},
     "output_type": "execute_result"
    },
    {
     "data": {
      "image/png": "[encoded data removed]",
      "text/plain": [
       "<Figure size 640x480 with 2 Axes>"
      ]
     },
     "metadata": {},
     "output_type": "display_data"
    }
   ],
   "source": [
    "cm_display = ConfusionMatrixDisplay(confusion_matrix = conf_matrix, display_labels = np.unique(y_train))\n",
    "cm_display.plot()"
   ]
  },
  {
   "cell_type": "code",
   "execution_count": 17,
   "id": "a362e1e1-60b5-4598-81d5-dd56d261b9d5",
   "metadata": {},
   "outputs": [
    {
     "data": {
      "text/plain": [
       "2"
      ]
     },
     "execution_count": 17,
     "metadata": {},
     "output_type": "execute_result"
    }
   ],
   "source": []
  },
  {
   "cell_type": "markdown",
   "id": "8a064122-342d-4c4f-91da-4a55502409f9",
   "metadata": {},
   "source": [
    "### LSTM"
   ]
  },
  {
   "cell_type": "code",
   "execution_count": 8,
   "id": "1e4862e6-1edf-4beb-b228-ac4efb5ad77b",
   "metadata": {},
   "outputs": [],
   "source": [
    "# prepare X_train, y_train, X_test, y_test for LSTM\n",
    "X_train, y_train = prepare_x_y(scaled_train)\n",
    "X_test, y_test = prepare_x_y(scaled_test)"
   ]
  }
 ],
 "metadata": {
  "kernelspec": {
   "display_name": "Python 3 (ipykernel)",
   "language": "python",
   "name": "python3"
  },
  "language_info": {
   "codemirror_mode": {
    "name": "ipython",
    "version": 3
   },
   "file_extension": ".py",
   "mimetype": "text/x-python",
   "name": "python",
   "nbconvert_exporter": "python",
   "pygments_lexer": "ipython3",
   "version": "3.12.2"
  }
 },
 "nbformat": 4,
 "nbformat_minor": 5
}
